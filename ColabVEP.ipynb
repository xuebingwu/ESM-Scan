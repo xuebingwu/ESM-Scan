{
  "cells": [
    {
      "cell_type": "markdown",
      "metadata": {
        "id": "view-in-github",
        "colab_type": "text"
      },
      "source": [
        "<a href=\"https://colab.research.google.com/github/xuebingwu/ESM-Scan/blob/main/ColabVEP.ipynb\" target=\"_parent\"><img src=\"https://colab.research.google.com/assets/colab-badge.svg\" alt=\"Open In Colab\"/></a>"
      ]
    },
    {
      "cell_type": "markdown",
      "metadata": {
        "id": "HBC_J9pHSp1p"
      },
      "source": [
        "# <font color='MediumSlateBlue '> **ESM-Scan**  </font>\n",
        "## Predict the impact of every possible mutation in any protein using Evolutionary Scale Modeling ([ESM](https://github.com/facebookresearch/esm))\n",
        "---\n",
        "[Xuebing Wu lab @ Columbia](https://xuebingwu.github.io/)     |     [GitHub repository](https://github.com/xuebingwu/ESMScan)"
      ]
    },
    {
      "cell_type": "code",
      "execution_count": 2,
      "metadata": {
        "id": "D6znA5iqZu1b",
        "outputId": "59829982-cf0c-48ea-83b0-22c8f1d72666",
        "colab": {
          "base_uri": "https://localhost:8080/",
          "height": 207
        },
        "cellView": "form"
      },
      "outputs": [
        {
          "output_type": "stream",
          "name": "stdout",
          "text": [
            "2024-02-20 02:47:58: Removing files from a previous run\n",
            "\n",
            "\n",
            "\u001b[1m\u001b[94mRunning saturation mutagenesis\u001b[0m\n",
            "python /content/ESM-Scan/esmscan.py --model-location /content/esm1b_t33_650M_UR50S.pt --sequence MSHRKFSAPRHGHLGFLSHRHRGKVKTWPRDDPSQPVHLTAFLGYKAGMTHTLREVHRPGLKISKREEVEAVTIVETPPLVVVGVVGYVATPRGLRSFKTIFAEHLSDECRRRFYKDWHKSKKKAFTKACKRWRDTDGKKQLQKDFAAMKKYCKVIRVIVHTQMKLLPFRQKKAHIMEIQLNGGTVAEKVAWAQARLEKQVPVHSVFSQSEVIDVIAVTKGRGVKGVTSRWHTKKLPRKTHKGLRKVACIGAWHPARVGCSIARAGQKGYHHRTELNKKIFRIGRGPHMEDGKLVKNNASTSYDVTAKSITPLGGFPHYGEVNNDFVMLKGCIAGTKKRVITLRKSLLVHHSRQAVENIELKFIDTTSKFGHGRFQTAQEKRAFMGPQKKHLEKETPETSGDL\n",
            "Transferred model to GPU\n",
            "\n",
            "\n",
            "\u001b[1m\u001b[94mDownloading results\u001b[0m\n"
          ]
        },
        {
          "output_type": "display_data",
          "data": {
            "text/plain": [
              "<IPython.core.display.Javascript object>"
            ],
            "application/javascript": [
              "\n",
              "    async function download(id, filename, size) {\n",
              "      if (!google.colab.kernel.accessAllowed) {\n",
              "        return;\n",
              "      }\n",
              "      const div = document.createElement('div');\n",
              "      const label = document.createElement('label');\n",
              "      label.textContent = `Downloading \"${filename}\": `;\n",
              "      div.appendChild(label);\n",
              "      const progress = document.createElement('progress');\n",
              "      progress.max = size;\n",
              "      div.appendChild(progress);\n",
              "      document.body.appendChild(div);\n",
              "\n",
              "      const buffers = [];\n",
              "      let downloaded = 0;\n",
              "\n",
              "      const channel = await google.colab.kernel.comms.open(id);\n",
              "      // Send a message to notify the kernel that we're ready.\n",
              "      channel.send({})\n",
              "\n",
              "      for await (const message of channel.messages) {\n",
              "        // Send a message to notify the kernel that we're ready.\n",
              "        channel.send({})\n",
              "        if (message.buffers) {\n",
              "          for (const buffer of message.buffers) {\n",
              "            buffers.push(buffer);\n",
              "            downloaded += buffer.byteLength;\n",
              "            progress.value = downloaded;\n",
              "          }\n",
              "        }\n",
              "      }\n",
              "      const blob = new Blob(buffers, {type: 'application/binary'});\n",
              "      const a = document.createElement('a');\n",
              "      a.href = window.URL.createObjectURL(blob);\n",
              "      a.download = filename;\n",
              "      div.appendChild(a);\n",
              "      a.click();\n",
              "      div.remove();\n",
              "    }\n",
              "  "
            ]
          },
          "metadata": {}
        },
        {
          "output_type": "display_data",
          "data": {
            "text/plain": [
              "<IPython.core.display.Javascript object>"
            ],
            "application/javascript": [
              "download(\"download_927eed40-f911-48bb-9b2a-dc86cc29331f\", \"res.zip\", 273002)"
            ]
          },
          "metadata": {}
        },
        {
          "output_type": "stream",
          "name": "stdout",
          "text": [
            "2024-02-20 02:48:54: Done! Please see results in res.zip\n"
          ]
        }
      ],
      "source": [
        "##@title Analyze your protein\n",
        "\n",
        "import os\n",
        "from google.colab import files\n",
        "import datetime\n",
        "import re\n",
        "\n",
        "class bcolors:\n",
        "    HEADER = '\\033[95m'\n",
        "    OKBLUE = '\\033[94m'\n",
        "    OKCYAN = '\\033[96m'\n",
        "    OKGREEN = '\\033[92m'\n",
        "    WARNING = '\\033[93m'\n",
        "    FAIL = '\\033[91m'\n",
        "    ENDC = '\\033[0m'\n",
        "    BOLD = '\\033[1m'\n",
        "    UNDERLINE = '\\033[4m'\n",
        "\n",
        "########## input\n",
        "INPUT = \"MSHRKFSAPRHGHLGFLSHRHRGKVKTWPRDDPSQPVHLTAFLGYKAGMTHTLREVHRPGLKISKREEVEAVTIVETPPLVVVGVVGYVATPRGLRSFKTIFAEHLSDECRRRFYKDWHKSKKKAFTKACKRWRDTDGKKQLQKDFAAMKKYCKVIRVIVHTQMKLLPFRQKKAHIMEIQLNGGTVAEKVAWAQARLEKQVPVHSVFSQSEVIDVIAVTKGRGVKGVTSRWHTKKLPRKTHKGLRKVACIGAWHPARVGCSIARAGQKGYHHRTELNKKIFRIGRGPHMEDGKLVKNNASTSYDVTAKSITPLGGFPHYGEVNNDFVMLKGCIAGTKKRVITLRKSLLVHHSRQAVENIELKFIDTTSKFGHGRFQTAQEKRAFMGPQKKHLEKETPETSGDL\"#@param [\"RPL3L\", \"MYC\"] {allow-input: true}\n",
        "\n",
        "#@markdown - Input format: one raw protein sequence; space allowed\n",
        "#@markdown - Example: copy & paste a multi-line sequence from a FASTA file (without the header)\n",
        "#@markdown - To run: click `Runtime` -> `Run all` in the menu bar, or click the triangle play/run button on the left\n",
        "\n",
        "seq = INPUT\n",
        "\n",
        "if seq == \"RPL3L\":\n",
        "  seq = \"MSHRKFSAPRHGHLGFLPHKRSHRHRGKVKTWPRDDPSQPVHLTAFLGYKAGMTHTLREVHRPGLKISKREEVEAVTIVETPPLVVVGVVGYVATPRGLRSFKTIFAEHLSDECRRRFYKDWHKSKKKAFTKACKRWRDTDGKKQLQKDFAAMKKYCKVIRVIVHTQMKLLPFRQKKAHIMEIQLNGGTVAEKVAWAQARLEKQVPVHSVFSQSEVIDVIAVTKGRGVKGVTSRWHTKKLPRKTHKGLRKVACIGAWHPARVGCSIARAGQKGYHHRTELNKKIFRIGRGPHMEDGKLVKNNASTSYDVTAKSITPLGGFPHYGEVNNDFVMLKGCIAGTKKRVITLRKSLLVHHSRQAVENIELKFIDTTSKFGHGRFQTAQEKRAFMGPQKKHLEKETPETSGDL\"\n",
        "elif seq == \"MYC\":\n",
        "  seq = \"MDFFRVVENQQPPATMPLNVSFTNRNYDLDYDSVQPYFYCDEEENFYQQQQQSELQPPAPSEDIWKKFELLPTPPLSPSRRSGLCSPSYVAVTPFSLRGDNDGGGGSFSTADQLEMVTELLGGDMVNQSFICDPDDETFIKNIIIQDCMWSGFSAAAKLVSEKLASYQAARKDSGSPNPARGHSVCSTSSLYLQDLSAAASECIDPSVVFPYPLNDSSSPKSCASQDSSAFSPSSDSLLSSTESSPQGSPEPLVLHEETPPTTSSDSEEEQEDEEEIDVVSVEKRQAPGKRSESGSPSAGGHSKPPHSPLVLKRCHVSTHQHNYAAPPSTRKDYPAAKRVKLDSVRVLRQISNNRKCTSPRSSDTEENVKRRTHNVLERQRRNELKRSFFALRDQIPELENNEKAPKVVILKKATAYILSVQAEEQKLISEEDLLRKRREQLKHKLEQLRNSCA\"\n",
        "else: # user input\n",
        "  # clean up sequence: upper case, remove space\n",
        "  seq = seq.upper().replace(' ','')\n",
        "  # if contains non aa letters:\n",
        "  if not all(char in 'ACDEFGHIKLMNPQRSTVWY' for char in seq):\n",
        "    print(\"\\n\\n\")\n",
        "    print('\\n'+ bcolors.BOLD +bcolors.FAIL + \"WARNING: Your sequence contains letters other than ACDEFGHIKLMNPQRSTVWY!\"+bcolors.ENDC)\n",
        "    L0  = len(seq)\n",
        "    seq = re.sub('[^ACDEFGHIKLMNPQRSTVWY]+', '', seq)\n",
        "    L1 = len(seq)\n",
        "    print(L0-L1,'non-aa letters removed!'+bcolors.ENDC)\n",
        "    exit()\n",
        "\n",
        "######### options\n",
        "\n",
        "# set model\n",
        "MODEL = \"esm1b_t33_650M_UR50S\" #@param [\"esm1v_t33_650M_UR90S_1\", \"esm1b_t33_650M_UR50S\"]\n",
        "\n",
        "# remove files from a previous run\n",
        "if os.path.exists(\"ESMScan-all-mutants.txt\"):\n",
        "  print(datetime.datetime.now().strftime(\"%Y-%m-%d %H:%M:%S\")+': Removing files from a previous run')\n",
        "  !rm ESMScan-* res.zip run.sh\n",
        "\n",
        "if not os.path.exists(\"ESM-Scan\"):\n",
        "  print(\"\\n\")\n",
        "  print('\\n\\n'+ bcolors.BOLD +bcolors.OKBLUE + \"Installing packages\"  +bcolors.ENDC)\n",
        "  print(datetime.datetime.now().strftime(\"%Y-%m-%d %H:%M:%S\"))\n",
        "  print(\"~~~~~~~~~~~~~~~~~~~~~~~~~~~~~~~~~~~~~~~~~~~~~~~~~~~~~~~~~~~~~~\")\n",
        "  !pip install biopython\n",
        "  !pip install fair-esm\n",
        "  !git clone https://github.com/xuebingwu/ESM-Scan.git\n",
        "  !cd /content\n",
        "  !mv /content/ESM-Scan/esm1b_t33_650M_UR50S-contact-regression.pt /content/\n",
        "  print(\"~~~~~~~~~~~~~~~~~~~~~~~~~~~~~~~~~~~~~~~~~~~~~~~~~~~~~~~~~~~~~~\")\n",
        "\n",
        "model_location=\"/content/\"+MODEL+\".pt\"\n",
        "if not os.path.exists(model_location ):\n",
        "  print('\\n\\n'+ bcolors.BOLD +bcolors.OKBLUE + \"Downloading pre-trained ESM model\"  +bcolors.ENDC)\n",
        "  if MODEL == \"esm1b_t33_650M_UR50S\":\n",
        "    !wget https://dl.fbaipublicfiles.com/fair-esm/models/esm1b_t33_650M_UR50S.pt\n",
        "  else:\n",
        "    !wget https://dl.fbaipublicfiles.com/fair-esm/models/esm1v_t33_650M_UR90S_1.pt\n",
        "\n",
        "print('\\n\\n'+ bcolors.BOLD +bcolors.OKBLUE + \"Running saturation mutagenesis\"  +bcolors.ENDC)\n",
        "\n",
        "cmd=\"python /content/ESM-Scan/esmscan.py --model-location \"+model_location+\" --sequence \"+seq\n",
        "\n",
        "print(cmd)\n",
        "\n",
        "with open(\"run.sh\",'w') as f:\n",
        "  f.write(cmd+'\\n')\n",
        "\n",
        "!chmod +x /content/run.sh\n",
        "!/content/run.sh\n",
        "\n",
        "'''\n",
        "import subprocess\n",
        "\n",
        "proc = subprocess.Popen([cmd], stdout=subprocess.PIPE, shell=True)\n",
        "\n",
        "(out, err) = proc.communicate()\n",
        "print(\"Screen output:\", out)\n",
        "print(\"Screen error:\", err)\n",
        "'''\n",
        "#os.system(cmd)\n",
        "\n",
        "print('\\n\\n'+ bcolors.BOLD +bcolors.OKBLUE + \"Downloading results\"  +bcolors.ENDC)\n",
        "\n",
        "if os.path.exists('ESMScan-res-in-matrix.csv'):\n",
        "  os.system(f'zip res.zip *.pdf *.csv')\n",
        "  files.download(f\"res.zip\")\n",
        "  print(datetime.datetime.now().strftime(\"%Y-%m-%d %H:%M:%S\")+': Done! Please see results in res.zip')\n",
        "else:\n",
        "  print(datetime.datetime.now().strftime(\"%Y-%m-%d %H:%M:%S\")+': No output files generated')\n"
      ]
    },
    {
      "cell_type": "markdown",
      "source": [
        "# About <a name=\"Instructions\"></a>\n",
        "\n",
        "**Applications**\n",
        "* Assess the impact of all possible mutaitons in a protein.\n",
        "\n",
        "**Input**\n",
        "* A single protein sequence\n",
        "\n",
        "**Output**\n",
        "* Data: CSV files containing the effect of each mutations. Negative means more deleterious.\n",
        "* Visualizaitons: A heatmap color coding the effect of all possible mutations (20 columns) at each amino acid in the protein (row). Blue means more deleterious. A box-plot along each position is also included.\n",
        "\n",
        "<img src=\"https://github.com/xuebingwu/ESM-Scan/blob/main/example-output.png\" height=\"400\" align=\"center\">\n",
        "\n",
        "**Methods**\n",
        "* Please see the following preprint for more details:\n",
        "[Language models enable zero-shot prediction of the effects of mutations on protein function](https://www.biorxiv.org/content/10.1101/2021.07.09.450648v2).\n",
        "\n",
        "**Limitations**\n",
        "* A gmail account is required to run Google Colab notebooks.\n",
        "* This notebook was designed for analyzing a single sequence.\n",
        "* Only sequences of length ~400aa have been tested. Longer sequences may fail due to a lack of memory.\n",
        "* The first run is slow due to the need to download pre-trained ESM models.  \n",
        "* GPU is required and may not be available on Colab.\n",
        "* Your browser can block the pop-up for downloading the result file. You can choose the `save_to_google_drive` option to upload to Google Drive instead or manually download the result file: Click on the little folder icon to the left, navigate to file: `res.zip`, right-click and select \\\"Download\\\".\n",
        "\n",
        "\n",
        "**Bugs**\n",
        "- If you encounter any bugs, please report the issue by emailing Xuebing Wu (xw2629 at cumc dot columbia dot edu)\n",
        "\n",
        "**License**\n",
        "\n",
        "* The source code of this notebook is licensed under [MIT](https://raw.githubusercontent.com/sokrypton/ColabFold/main/LICENSE).\n",
        "\n",
        "**Acknowledgments**\n",
        "- We thank the [ESM](https://github.com/facebookresearch/esm) team for developing an excellent model and open sourcing the software.\n",
        "\n",
        "- This notebook is modeld after the [ColabFold notebook](https://colab.research.google.com/github/sokrypton/ColabFold/blob/main/AlphaFold2.ipynb).\n"
      ],
      "metadata": {
        "id": "Cz3dcAlurVqE"
      }
    }
  ],
  "metadata": {
    "accelerator": "GPU",
    "colab": {
      "provenance": [],
      "authorship_tag": "ABX9TyN1J/mjzo2j2YKpS2/Wqtsx",
      "include_colab_link": true
    },
    "gpuClass": "standard",
    "kernelspec": {
      "display_name": "Python 3",
      "name": "python3"
    },
    "language_info": {
      "name": "python"
    }
  },
  "nbformat": 4,
  "nbformat_minor": 0
}