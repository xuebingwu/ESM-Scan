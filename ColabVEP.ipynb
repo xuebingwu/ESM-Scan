{
  "cells": [
    {
      "cell_type": "markdown",
      "metadata": {
        "id": "view-in-github",
        "colab_type": "text"
      },
      "source": [
        "<a href=\"https://colab.research.google.com/github/xuebingwu/ESM-Scan/blob/main/ColabVEP.ipynb\" target=\"_parent\"><img src=\"https://colab.research.google.com/assets/colab-badge.svg\" alt=\"Open In Colab\"/></a>"
      ]
    },
    {
      "cell_type": "markdown",
      "metadata": {
        "id": "HBC_J9pHSp1p"
      },
      "source": [
        "# <font color='MediumSlateBlue '> **ColabVEP**</font>\n",
        "##Accessible Variant Effect Prediction\n",
        "---\n",
        "[Xuebing Wu lab @ Columbia](https://xuebingwu.github.io/)     |     [GitHub repository](https://github.com/xuebingwu/ESMScan)"
      ]
    },
    {
      "cell_type": "code",
      "execution_count": 5,
      "metadata": {
        "id": "D6znA5iqZu1b",
        "outputId": "bd9ad316-8f5b-4756-a866-1c8d99eefacc",
        "colab": {
          "base_uri": "https://localhost:8080/"
        }
      },
      "outputs": [
        {
          "output_type": "stream",
          "name": "stdout",
          "text": [
            "\n",
            "\n",
            "\u001b[1m\u001b[94mRunning saturation mutagenesis\u001b[0m\n",
            "python /content/ESM-Scan/esmscan.py --model-location /content/esm1b_t33_650M_UR50S.pt --sequence MSHRKFSAPRHGHLGFLPHKRSHRHRGKVKTWPRDDPSQPVHLTAFLGYKAGMTHTLREVHRPGLKISKREEVEAVTIVETPPLVVVGVVGYVATPRGLRSFKTIFAEHLSDECRRRFYKDWHKSKKKAFTKACKRWRDTDGKKQLQKDFAAMKKYCKVIRVIVHTQMKLLPFRQKKAHIMEIQLNGGTVAEKVAWAQARLEKQVPVHSVFSQSEVIDVIAVTKGRGVKGVTSRWHTKKLPRKTHKGLRKVACIGAWHPARVGCSIARAGQKGYHHRTELNKKIFRIGRGPHMEDGKLVKNNASTSYDVTAKSITPLGGFPHYGEVNNDFVMLKGCIAGTKKRVITLRKSLLVHHSRQAVENIELKFIDTTSKFGHGRFQTAQEKRAFMGPQKKHLEKETPETSGDL\n",
            "Traceback (most recent call last):\n",
            "  File \"/content/ESM-Scan/esmscan.py\", line 10, in <module>\n",
            "    import torch\n",
            "  File \"/usr/local/lib/python3.10/dist-packages/torch/__init__.py\", line 1750, in <module>\n",
            "    from . import _meta_registrations\n",
            "  File \"/usr/local/lib/python3.10/dist-packages/torch/_meta_registrations.py\", line 5715, in <module>\n",
            "    activate_meta()\n",
            "  File \"/usr/local/lib/python3.10/dist-packages/torch/_meta_registrations.py\", line 5675, in activate_meta\n",
            "    if torch._C._dispatch_has_kernel_for_dispatch_key(\n",
            "KeyboardInterrupt\n",
            "^C\n",
            "\n",
            "\n",
            "\u001b[1m\u001b[94mDownloading results\u001b[0m\n",
            "2024-02-20 03:09:28: No output files generated\n"
          ]
        }
      ],
      "source": [
        "##@title Analyze your protein\n",
        "\n",
        "import os\n",
        "from google.colab import files\n",
        "import datetime\n",
        "import re\n",
        "\n",
        "class bcolors:\n",
        "    HEADER = '\\033[95m'\n",
        "    OKBLUE = '\\033[94m'\n",
        "    OKCYAN = '\\033[96m'\n",
        "    OKGREEN = '\\033[92m'\n",
        "    WARNING = '\\033[93m'\n",
        "    FAIL = '\\033[91m'\n",
        "    ENDC = '\\033[0m'\n",
        "    BOLD = '\\033[1m'\n",
        "    UNDERLINE = '\\033[4m'\n",
        "\n",
        "########## input\n",
        "INPUT = \"RPL3L\"#@param [\"RPL3L\", \"MYC\"] {allow-input: true}\n",
        "\n",
        "#@markdown - Input format: one raw protein sequence; space allowed\n",
        "#@markdown - Example: copy & paste a multi-line sequence from a FASTA file (without the header)\n",
        "#@markdown - To run: click `Runtime` -> `Run all` in the menu bar, or click the triangle play/run button on the left\n",
        "\n",
        "MUTATION = None #@param {allow-input: true}\n",
        "#@markdown - Input format: seperate each mutation using commas. Each mutation should contain the wild type amino acid, its position in the sequence, and the mutated amino acid e.g.\"M1A, E2C\"\n",
        "#@markdown - Specify the sequence that contains the mutations in the input above\n",
        "\n",
        "INDEL = None #@param {allow-input: true}\n",
        "#@markdown - Input format: seperate using commas the mutated sequence with indel mutations and the index of the mutation\n",
        "#@markdown - Specify the wild type sequence in the input above\n",
        "\n",
        "seq = INPUT\n",
        "mut = MUTATION\n",
        "indel = INDEL\n",
        "\n",
        "if seq == \"RPL3L\":\n",
        "  seq = \"MSHRKFSAPRHGHLGFLPHKRSHRHRGKVKTWPRDDPSQPVHLTAFLGYKAGMTHTLREVHRPGLKISKREEVEAVTIVETPPLVVVGVVGYVATPRGLRSFKTIFAEHLSDECRRRFYKDWHKSKKKAFTKACKRWRDTDGKKQLQKDFAAMKKYCKVIRVIVHTQMKLLPFRQKKAHIMEIQLNGGTVAEKVAWAQARLEKQVPVHSVFSQSEVIDVIAVTKGRGVKGVTSRWHTKKLPRKTHKGLRKVACIGAWHPARVGCSIARAGQKGYHHRTELNKKIFRIGRGPHMEDGKLVKNNASTSYDVTAKSITPLGGFPHYGEVNNDFVMLKGCIAGTKKRVITLRKSLLVHHSRQAVENIELKFIDTTSKFGHGRFQTAQEKRAFMGPQKKHLEKETPETSGDL\"\n",
        "elif seq == \"MYC\":\n",
        "  seq = \"MDFFRVVENQQPPATMPLNVSFTNRNYDLDYDSVQPYFYCDEEENFYQQQQQSELQPPAPSEDIWKKFELLPTPPLSPSRRSGLCSPSYVAVTPFSLRGDNDGGGGSFSTADQLEMVTELLGGDMVNQSFICDPDDETFIKNIIIQDCMWSGFSAAAKLVSEKLASYQAARKDSGSPNPARGHSVCSTSSLYLQDLSAAASECIDPSVVFPYPLNDSSSPKSCASQDSSAFSPSSDSLLSSTESSPQGSPEPLVLHEETPPTTSSDSEEEQEDEEEIDVVSVEKRQAPGKRSESGSPSAGGHSKPPHSPLVLKRCHVSTHQHNYAAPPSTRKDYPAAKRVKLDSVRVLRQISNNRKCTSPRSSDTEENVKRRTHNVLERQRRNELKRSFFALRDQIPELENNEKAPKVVILKKATAYILSVQAEEQKLISEEDLLRKRREQLKHKLEQLRNSCA\"\n",
        "else: # user input\n",
        "  # clean up sequence: upper case, remove space\n",
        "  seq = seq.upper().replace(' ','')\n",
        "  # if contains non aa letters:\n",
        "  if not all(char in 'ACDEFGHIKLMNPQRSTVWY' for char in seq):\n",
        "    print(\"\\n\\n\")\n",
        "    print('\\n'+ bcolors.BOLD +bcolors.FAIL + \"WARNING: Your sequence contains letters other than ACDEFGHIKLMNPQRSTVWY!\"+bcolors.ENDC)\n",
        "    L0  = len(seq)\n",
        "    seq = re.sub('[^ACDEFGHIKLMNPQRSTVWY]+', '', seq)\n",
        "    L1 = len(seq)\n",
        "    print(L0-L1,'non-aa letters removed!'+bcolors.ENDC)\n",
        "    exit()\n",
        "\n",
        "if mut:\n",
        "  mut = mut.replace(' ','')\n",
        "if indel:\n",
        "  indel = indel.replace(' ','')\n",
        "\n",
        "######### options\n",
        "\n",
        "# set model\n",
        "\n",
        "MODEL = \"esm1b_t33_650M_UR50S\" #@param [\"esm1v_t33_650M_UR90S_1\", \"esm1b_t33_650M_UR50S\"]\n",
        "\n",
        "# remove files from a previous run\n",
        "if os.path.exists(\"ESMScan-all-mutants.txt\"):\n",
        "  print(datetime.datetime.now().strftime(\"%Y-%m-%d %H:%M:%S\")+': Removing files from a previous run')\n",
        "  !rm ESMScan-* res.zip run.sh\n",
        "\n",
        "if not os.path.exists(\"ESM-Scan\"):\n",
        "  print(\"\\n\")\n",
        "  print('\\n\\n'+ bcolors.BOLD +bcolors.OKBLUE + \"Installing packages\"  +bcolors.ENDC)\n",
        "  print(datetime.datetime.now().strftime(\"%Y-%m-%d %H:%M:%S\"))\n",
        "  print(\"~~~~~~~~~~~~~~~~~~~~~~~~~~~~~~~~~~~~~~~~~~~~~~~~~~~~~~~~~~~~~~\")\n",
        "  !pip install biopython\n",
        "  !pip install fair-esm\n",
        "  !git clone https://github.com/xuebingwu/ESM-Scan.git\n",
        "  !cd /content\n",
        "  !mv /content/ESM-Scan/esm1b_t33_650M_UR50S-contact-regression.pt /content/\n",
        "\n",
        "  print(\"~~~~~~~~~~~~~~~~~~~~~~~~~~~~~~~~~~~~~~~~~~~~~~~~~~~~~~~~~~~~~~\")\n",
        "\n",
        "model_location=\"/content/\"+MODEL+\".pt\"\n",
        "if not os.path.exists(model_location ):\n",
        "  print('\\n\\n'+ bcolors.BOLD +bcolors.OKBLUE + \"Downloading pre-trained ESM model\"  +bcolors.ENDC)\n",
        "  if MODEL == \"esm1b_t33_650M_UR50S\":\n",
        "    !wget https://dl.fbaipublicfiles.com/fair-esm/models/esm1b_t33_650M_UR50S.pt\n",
        "  else:\n",
        "    !wget https://dl.fbaipublicfiles.com/fair-esm/models/esm1v_t33_650M_UR90S_1.pt\n",
        "\n",
        "print('\\n\\n'+ bcolors.BOLD +bcolors.OKBLUE + \"Running saturation mutagenesis\"  +bcolors.ENDC)\n",
        "\n",
        "if type(mut) == str:\n",
        "  cmd=\"python /content/ESM-Scan/esmscan.py --model-location \"+model_location+\" --sequence \"+seq + \" --dms-mutation \" + mut\n",
        "elif type(indel) == str:\n",
        "  cmd=\"python /content/ESM-Scan/esmscan.py --model-location \"+model_location+\" --sequence \"+seq + \" --dms-indel \" + indel + \" --scoring-strategy \" + \"indel\"\n",
        "else:\n",
        "  cmd=\"python /content/ESM-Scan/esmscan.py --model-location \"+model_location+\" --sequence \"+seq\n",
        "\n",
        "\n",
        "print(cmd)\n",
        "\n",
        "with open(\"run.sh\",'w') as f:\n",
        "  f.write(cmd+'\\n')\n",
        "\n",
        "!chmod +x /content/run.sh\n",
        "!/content/run.sh\n",
        "\n",
        "'''\n",
        "import subprocess\n",
        "\n",
        "proc = subprocess.Popen([cmd], stdout=subprocess.PIPE, shell=True)\n",
        "\n",
        "(out, err) = proc.communicate()\n",
        "print(\"Screen output:\", out)\n",
        "print(\"Screen error:\", err)\n",
        "'''\n",
        "#os.system(cmd)\n",
        "\n",
        "print('\\n\\n'+ bcolors.BOLD +bcolors.OKBLUE + \"Downloading results\"  +bcolors.ENDC)\n",
        "\n",
        "if os.path.exists('ESMScan-res-in-matrix.csv'):\n",
        "  os.system(f'zip res.zip *.pdf *.csv')\n",
        "  files.download(f\"res.zip\")\n",
        "  print(datetime.datetime.now().strftime(\"%Y-%m-%d %H:%M:%S\")+': Done! Please see results in res.zip')\n",
        "elif type(mut) == str or type(indel) == str:\n",
        "  os.system(f'zip res.zip *.pdf *.csv')\n",
        "  files.download(f\"res.zip\")\n",
        "  print(datetime.datetime.now().strftime(\"%Y-%m-%d %H:%M:%S\")+': Done! Please see results in res.zip')\n",
        "else:\n",
        "  print(datetime.datetime.now().strftime(\"%Y-%m-%d %H:%M:%S\")+': No output files generated')\n"
      ]
    },
    {
      "cell_type": "code",
      "source": [
        "!mv /content/ESM-Scan/esm1b_t33_650M_UR50S-contact-regression.pt /content/"
      ],
      "metadata": {
        "id": "6ErkVDPddMb6",
        "outputId": "1548b527-53d7-476d-9725-54654ac5b685",
        "colab": {
          "base_uri": "https://localhost:8080/"
        }
      },
      "execution_count": 3,
      "outputs": [
        {
          "output_type": "stream",
          "name": "stdout",
          "text": [
            "mv: cannot stat '/content/ESM-Scan/esm1b_t33_650M_UR50S-contact-regression.pt': No such file or directory\n"
          ]
        }
      ]
    },
    {
      "cell_type": "markdown",
      "source": [
        "# About <a name=\"Instructions\"></a>\n",
        "\n",
        "**Applications**\n",
        "* Assess the impact of all possible mutaitons in a protein.\n",
        "\n",
        "**Input**\n",
        "* A single protein sequence\n",
        "\n",
        "**Output**\n",
        "* Data: CSV files containing the effect of each mutations. Negative means more deleterious.\n",
        "* Visualizaitons: A heatmap color coding the effect of all possible mutations (20 columns) at each amino acid in the protein (row). Blue means more deleterious. A box-plot along each position is also included.\n",
        "\n",
        "<img src=\"https://github.com/xuebingwu/ESM-Scan/blob/main/example-output.png\" height=\"400\" align=\"center\">\n",
        "\n",
        "**Methods**\n",
        "* Please see the following preprint for more details:\n",
        "[Language models enable zero-shot prediction of the effects of mutations on protein function](https://www.biorxiv.org/content/10.1101/2021.07.09.450648v2).\n",
        "\n",
        "**Limitations**\n",
        "* A gmail account is required to run Google Colab notebooks.\n",
        "* This notebook was designed for analyzing a single sequence.\n",
        "* Only sequences of length ~400aa have been tested. Longer sequences may fail due to a lack of memory.\n",
        "* The first run is slow due to the need to download pre-trained ESM models.  \n",
        "* GPU is required and may not be available on Colab.\n",
        "* Your browser can block the pop-up for downloading the result file. You can choose the `save_to_google_drive` option to upload to Google Drive instead or manually download the result file: Click on the little folder icon to the left, navigate to file: `res.zip`, right-click and select \\\"Download\\\".\n",
        "\n",
        "\n",
        "**Bugs**\n",
        "- If you encounter any bugs, please report the issue by emailing Xuebing Wu (xw2629 at cumc dot columbia dot edu)\n",
        "\n",
        "**License**\n",
        "\n",
        "* The source code of this notebook is licensed under [MIT](https://raw.githubusercontent.com/sokrypton/ColabFold/main/LICENSE).\n",
        "\n",
        "**Acknowledgments**\n",
        "- We thank the [ESM](https://github.com/facebookresearch/esm) team for developing an excellent model and open sourcing the software.\n",
        "\n",
        "- This notebook is modeld after the [ColabFold notebook](https://colab.research.google.com/github/sokrypton/ColabFold/blob/main/AlphaFold2.ipynb).\n"
      ],
      "metadata": {
        "id": "Cz3dcAlurVqE"
      }
    }
  ],
  "metadata": {
    "accelerator": "GPU",
    "colab": {
      "provenance": [],
      "authorship_tag": "ABX9TyMk5oZopEUOauVWA8YHdX3c",
      "include_colab_link": true
    },
    "gpuClass": "standard",
    "kernelspec": {
      "display_name": "Python 3",
      "name": "python3"
    },
    "language_info": {
      "name": "python"
    }
  },
  "nbformat": 4,
  "nbformat_minor": 0
}